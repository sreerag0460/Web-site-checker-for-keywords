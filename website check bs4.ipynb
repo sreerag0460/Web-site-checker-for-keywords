{
 "cells": [
  {
   "cell_type": "code",
   "execution_count": 25,
   "metadata": {},
   "outputs": [],
   "source": [
    "import pandas as pd\n",
    "import re\n",
    "import os\n",
    "import time\n",
    "\n",
    
    "data = pd.read_csv(r'Enter the path to the file', encoding='ISO-8859-1')  # ISO encoding\n",
    "data['checked2']=None"
   ]
  },
  {
   "cell_type": "code",
   "execution_count": 26,
   "metadata": {},
   "outputs": [],
   "source": [
    "text_to_find =['insurance','INSURANCE',\"Insurance\",'insure','Claims Processing','Policyholder','Insurer','Insured']\n",
    "\n",
    "import requests\n",
    "from bs4 import BeautifulSoup\n",
    "\n",
    "headers = {\n",
    "    \"User-Agent\": \"Mozilla/5.0 (Windows NT 10.0; Win64; x64) AppleWebKit/537.36 (KHTML, like Gecko) Chrome/87.0.4280.88 Safari/537.36\"\n",
    "}\n",
    "\n",
    "# Define the time limit for each request in seconds\n",
    "timeout_limit = 15  \n",
    "\n",
    "for i in range(len(data)):\n",
    "    print(f\"{i}/{len(data)}\")\n",
    "\n",
    "    try:\n",
    "        url = data.at[i, 'URL']\n",
    "        \n",
    "        # Adding timeout to the request\n",
    "        response = requests.get(url, headers=headers, timeout=timeout_limit)\n",
    "        response.raise_for_status()  # Check for HTTP request errors\n",
    "\n",
    "        if response.status_code == 200:\n",
    "            soup = BeautifulSoup(response.text, \"html.parser\")\n",
    "            z = 0\n",
    "            \n",
    "            # Searching for paragraphs containing target text\n",
    "            paragraphs = soup.find_all(\"p\")\n",
    "            for paragraph in paragraphs:\n",
    "                for j in text_to_find:\n",
    "                    if j in paragraph.get_text():\n",
    "                        print(j)\n",
    "                        z += 1\n",
    "\n",
    "            # Searching the entire page text for target words\n",
    "            for j in text_to_find:\n",
    "                if j in soup.get_text():\n",
    "                    print(j)\n",
    "                    z += 1\n",
    "\n",
    "            print(f\"'{z}' times on {url}\")\n",
    "            data.loc[i, 'checked2'] = z\n",
    "\n",
    "        else:\n",
    "            print(f\"Failed to fetch the page, status code: {response.status_code}\")\n",
    "    except requests.exceptions.Timeout:\n",
    "        print(f\"Request timed out for {url}\")\n",
    "    except requests.exceptions.RequestException as e:\n",
    "        print(f\"Request failed: {e}\")\n"
   ]
  },
  {
   "cell_type": "code",
   "execution_count": 31,
   "metadata": {},
   "outputs": [
    {
     "name": "stdout",
     "output_type": "stream",
     "text": [
      "DataFrame saved to c:\\Users\\admin\\OneDrive\\Desktop\\data\\data 1500+.csv\n"
     ]
    }
   ],
   "source": [
    "\n",
    "\n",
    "import os\n",
    "desktop_path = os.path.expanduser(r\"save location")  # For Windows, use r\"C:\\Users\\YourUsername\\Desktop\"\n",
    "contact=f'data.csv'\n",
    "csv_file_path = os.path.join(desktop_path, contact)\n",
    "\n",
    "# Save DataFrame to CSV\n",
    "data500.to_csv(csv_file_path, index=False)\n",
    "\n",
    "print(f\"DataFrame saved to {csv_file_path}\")\n"
   ]
  }
 ],
 "metadata": {
  "kernelspec": {
   "display_name": "myenv",
   "language": "python",
   "name": "python3"
  },
  "language_info": {
   "codemirror_mode": {
    "name": "ipython",
    "version": 3
   },
   "file_extension": ".py",
   "mimetype": "text/x-python",
   "name": "python",
   "nbconvert_exporter": "python",
   "pygments_lexer": "ipython3",
   "version": "3.12.5"
  }
 },
 "nbformat": 4,
 "nbformat_minor": 2
}
